{
 "cells": [
  {
   "cell_type": "code",
   "execution_count": 64,
   "id": "85385dc6",
   "metadata": {},
   "outputs": [],
   "source": [
    "import json\n",
    "import os\n",
    "from typing import List, Dict, Set"
   ]
  },
  {
   "cell_type": "code",
   "execution_count": 65,
   "id": "144711c4",
   "metadata": {},
   "outputs": [],
   "source": [
    "def read_matching_json_file(path):\n",
    "    with open(path, 'r') as f:\n",
    "        return json.load(f)"
   ]
  },
  {
   "cell_type": "code",
   "execution_count": 66,
   "id": "f8393460",
   "metadata": {},
   "outputs": [],
   "source": [
    "def read_datasetfile(path):\n",
    "    result = []\n",
    "    with open(path, \"r\") as f:\n",
    "        for line in f:\n",
    "            result.append(line.strip())\n",
    "\n",
    "    return result\n",
    "        "
   ]
  },
  {
   "cell_type": "code",
   "execution_count": 67,
   "id": "71814c8b",
   "metadata": {},
   "outputs": [],
   "source": [
    "ios_to_android = read_matching_json_file(\"../../data/dataset/all_matching.json\")"
   ]
  },
  {
   "cell_type": "code",
   "execution_count": null,
   "id": "8402b868",
   "metadata": {},
   "outputs": [],
   "source": [
    "len(ios_to_android)"
   ]
  },
  {
   "cell_type": "code",
   "execution_count": 69,
   "id": "1b9ef7fc",
   "metadata": {},
   "outputs": [],
   "source": [
    "android_popular = read_datasetfile(\"../../data/dataset/android/android_popular.txt\")\n",
    "android_random = read_datasetfile(\"../../data/dataset/android/android_random.txt\")\n",
    "android_matching = read_datasetfile(\"../../data/dataset/android/android_matching.txt\")"
   ]
  },
  {
   "cell_type": "code",
   "execution_count": 7,
   "id": "06355db5",
   "metadata": {},
   "outputs": [],
   "source": []
  },
  {
   "cell_type": "code",
   "execution_count": null,
   "id": "5ba958ae-d9f9-4ff3-bff6-596312b79843",
   "metadata": {},
   "outputs": [],
   "source": [
    "len(android_popular + android_random +android_matching)"
   ]
  },
  {
   "cell_type": "code",
   "execution_count": null,
   "id": "28e99f2c",
   "metadata": {},
   "outputs": [],
   "source": [
    "len(android_popular + android_random)"
   ]
  },
  {
   "cell_type": "code",
   "execution_count": null,
   "id": "c773c215-cb93-43b3-be61-7106551585ee",
   "metadata": {},
   "outputs": [],
   "source": [
    "len(android_popular)\n"
   ]
  },
  {
   "cell_type": "code",
   "execution_count": null,
   "id": "6c101b6b-a226-471b-97a3-8e9b52ac9ab3",
   "metadata": {},
   "outputs": [],
   "source": [
    "len(android_random)"
   ]
  },
  {
   "cell_type": "code",
   "execution_count": null,
   "id": "ca9eee84-04a6-46da-a561-3b330b544053",
   "metadata": {},
   "outputs": [],
   "source": []
  },
  {
   "cell_type": "code",
   "execution_count": 74,
   "id": "20f67cbc-e390-4d06-8da6-d68fd1218ab4",
   "metadata": {},
   "outputs": [],
   "source": [
    "ios_random = read_datasetfile(\"../../data/dataset/ios/ios_random.txt\") \n",
    "ios_top =  read_datasetfile(\"../../data/dataset/ios/ios_popular.txt\") \n"
   ]
  },
  {
   "cell_type": "code",
   "execution_count": 75,
   "id": "119a02e0",
   "metadata": {},
   "outputs": [],
   "source": [
    "matches_dataset = {}\n",
    "for app in ios_top + ios_random:\n",
    "    if app in ios_to_android: \n",
    "        matches_dataset[app] = ios_to_android[app]"
   ]
  },
  {
   "cell_type": "code",
   "execution_count": null,
   "id": "2b0d15e7-ec8c-44c5-aa57-9e9e4bb1b77a",
   "metadata": {},
   "outputs": [],
   "source": [
    "len(ios_random)"
   ]
  },
  {
   "cell_type": "code",
   "execution_count": null,
   "id": "c43cdd65-bce4-4b1a-9fe7-d8dd3e8c86fe",
   "metadata": {},
   "outputs": [],
   "source": [
    "len(ios_top)"
   ]
  },
  {
   "cell_type": "code",
   "execution_count": null,
   "id": "4ec0e23d-6dab-4ffa-b191-987d85816b1c",
   "metadata": {},
   "outputs": [],
   "source": [
    "len(matches_dataset)"
   ]
  },
  {
   "cell_type": "code",
   "execution_count": 79,
   "id": "e233937b",
   "metadata": {},
   "outputs": [],
   "source": [
    "matching_in_dataset = {}\n",
    "\n",
    "for app in ios_top + ios_random:\n",
    "    if app in ios_to_android and ios_to_android[app] in android_popular + android_random:\n",
    "        matching_in_dataset[app] = ios_to_android[app]"
   ]
  },
  {
   "cell_type": "code",
   "execution_count": null,
   "id": "cbd49c16",
   "metadata": {},
   "outputs": [],
   "source": [
    "len(matching_in_dataset)"
   ]
  },
  {
   "cell_type": "code",
   "execution_count": 81,
   "id": "ed9bc845",
   "metadata": {},
   "outputs": [],
   "source": [
    "all_matching_android_apps = {}\n",
    "for app in ios_top + ios_random:\n",
    "    if app in ios_to_android and ios_to_android[app] in android_popular + android_random + android_matching:\n",
    "        all_matching_android_apps[app] = ios_to_android[app]"
   ]
  },
  {
   "cell_type": "code",
   "execution_count": null,
   "id": "25b23fe2",
   "metadata": {},
   "outputs": [],
   "source": [
    "len(all_matching_android_apps)"
   ]
  },
  {
   "cell_type": "code",
   "execution_count": null,
   "id": "6951bf91",
   "metadata": {},
   "outputs": [],
   "source": [
    "len(all_matching_android_apps) - len(matching_in_dataset)"
   ]
  },
  {
   "cell_type": "code",
   "execution_count": null,
   "id": "24d3ddf7",
   "metadata": {},
   "outputs": [],
   "source": []
  },
  {
   "cell_type": "code",
   "execution_count": 85,
   "id": "7b879383",
   "metadata": {},
   "outputs": [],
   "source": []
  },
  {
   "cell_type": "code",
   "execution_count": null,
   "id": "55ed5862",
   "metadata": {},
   "outputs": [],
   "source": []
  },
  {
   "cell_type": "code",
   "execution_count": null,
   "id": "f2b6a7e1",
   "metadata": {},
   "outputs": [],
   "source": []
  },
  {
   "cell_type": "code",
   "execution_count": 54,
   "id": "efc4e12d",
   "metadata": {},
   "outputs": [],
   "source": []
  },
  {
   "cell_type": "code",
   "execution_count": null,
   "id": "02e683a2",
   "metadata": {},
   "outputs": [],
   "source": []
  },
  {
   "cell_type": "code",
   "execution_count": null,
   "id": "542b7045",
   "metadata": {},
   "outputs": [],
   "source": []
  },
  {
   "cell_type": "code",
   "execution_count": null,
   "id": "d4acee23",
   "metadata": {},
   "outputs": [],
   "source": []
  }
 ],
 "metadata": {
  "kernelspec": {
   "display_name": "Python 3 (ipykernel)",
   "language": "python",
   "name": "python3"
  },
  "language_info": {
   "codemirror_mode": {
    "name": "ipython",
    "version": 3
   },
   "file_extension": ".py",
   "mimetype": "text/x-python",
   "name": "python",
   "nbconvert_exporter": "python",
   "pygments_lexer": "ipython3",
   "version": "3.8.10"
  }
 },
 "nbformat": 4,
 "nbformat_minor": 5
}
