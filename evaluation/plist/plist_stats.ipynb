{
 "cells": [
  {
   "cell_type": "code",
   "execution_count": 1,
   "id": "438c6ed9",
   "metadata": {},
   "outputs": [],
   "source": [
    "import os\n",
    "import json\n",
    "import pandas as pd\n",
    "from typing import List, Dict, Any\n",
    "import re\n",
    "import openpyxl\n",
    "import sys\n",
    "\n",
    "sys.path.append('../scan_detector/')\n",
    "\n",
    "import util\n"
   ]
  },
  {
   "cell_type": "code",
   "execution_count": 21,
   "id": "bb0c3dfc",
   "metadata": {},
   "outputs": [],
   "source": [
    "\n",
    "matching_file = \"../../data/dataset/all_matching.json\"\n",
    "ios_top_apps = \"../../data/dataset/ios/ios_popular.txt\"\n",
    "ios_random_apps = \"../../data/dataset/ios/ios_random.txt\"\n",
    "\n",
    "\n",
    "all_permission =  \"../../data/plist_results/2024_01_20_all.njson\"\n",
    "\n"
   ]
  },
  {
   "cell_type": "code",
   "execution_count": 3,
   "id": "87e86740",
   "metadata": {},
   "outputs": [],
   "source": [
    "def load_file(path):\n",
    "    result = []\n",
    "    with open(path, \"r\") as f:\n",
    "        for line in f.readlines():\n",
    "            result.append(json.loads(line))\n",
    "            \n",
    "    return result"
   ]
  },
  {
   "cell_type": "code",
   "execution_count": 4,
   "id": "4baabcae",
   "metadata": {},
   "outputs": [],
   "source": [
    "def load_mapping_file(file):\n",
    "    result = []\n",
    "    with open(file, \"r\") as f:\n",
    "        for app in json.load(f):\n",
    "            result.append(app[\"app_id\"])\n",
    "    return result"
   ]
  },
  {
   "cell_type": "code",
   "execution_count": 5,
   "id": "13c41b7c",
   "metadata": {},
   "outputs": [],
   "source": [
    "def get_all_per_app(app):\n",
    "    result = set()\n",
    "    for k,v in app.items():\n",
    "        result.update(v)\n",
    "    return result"
   ]
  },
  {
   "cell_type": "code",
   "execution_count": 56,
   "id": "0baaffb2",
   "metadata": {},
   "outputs": [],
   "source": [
    "def contain_app(all_apps, app_path):\n",
    "    for app in all_apps:\n",
    "        if f\"{app}_\" in app_path:\n",
    "            #print(app)\n",
    "            return True\n",
    "    return False\n",
    "\n",
    "\n",
    "def get_ios_app_id(app_path: str) -> str:\n",
    "    \"\"\"\n",
    "    Extracts the iOS app ID from the given app path.\n",
    "\n",
    "    Args:\n",
    "        app_path (str): The path of the iOS app.\n",
    "\n",
    "    Returns:\n",
    "        str: The iOS app ID.\n",
    "    \"\"\"\n",
    "    return re.split(r\"_.*\\.ipa\", os.path.basename(app_path))[0]\n",
    "\n",
    "\n",
    "def analyze_dataset(dataset, dataset_ids):\n",
    "    result = {}\n",
    "    apps = set()\n",
    "    for app in dataset:\n",
    "        app_result = get_all_per_app(app)\n",
    "        app_id = get_ios_app_id(app[\"app\"])\n",
    "        if app_id not in apps and app_id in dataset_ids:\n",
    "            apps.add(app_id)\n",
    "        else:\n",
    "            continue\n",
    "\n",
    "        if \"NSLocalNetworkUsageDescription\" in app_result and \"NSBonjourServices\" in app_result:\n",
    "            tmp = result.get(\"both\", set())\n",
    "            tmp.add(app_id)\n",
    "            result[\"both\"] =  tmp\n",
    "        elif \"NSLocalNetworkUsageDescription\" in app_result:\n",
    "            tmp = result.get(\"NSLocalNetworkUsageDescription\", set())\n",
    "            tmp.add(app_id)\n",
    "            result[\"NSLocalNetworkUsageDescription\"] =  tmp\n",
    "        elif \"NSBonjourServices\" in app_result:\n",
    "            tmp = result.get(\"NSBonjourServices\", set())\n",
    "            tmp.add(app_id)\n",
    "            result[\"NSBonjourServices\"] =  tmp\n",
    "    return result\n",
    "\n",
    "\n",
    "def set_to_lens(result):\n",
    "    r_new = {}\n",
    "    for k,v in result.items():\n",
    "        r_new[k] = len(v)\n",
    "    return r_new"
   ]
  },
  {
   "cell_type": "code",
   "execution_count": 7,
   "id": "4adfec5a",
   "metadata": {},
   "outputs": [],
   "source": [
    "def get_dataset_ids_from_file(path: str) -> List[str]:\n",
    "    \"\"\"\n",
    "    Retrieves the iOS dataset from the given file path.\n",
    "\n",
    "    Args:\n",
    "        path (str): The path of the dataset.\n",
    "\n",
    "    Returns:\n",
    "        List[str]: The list of iOS app IDs.\n",
    "    \"\"\"\n",
    "    result = []\n",
    "    with open(path, \"r\") as f:\n",
    "        for line in f:\n",
    "            result.append(line.strip())\n",
    "    return result   \n",
    "\n",
    "\n",
    "def extract_column_a(file_path: str, sheet_name) -> list:\n",
    "    \"\"\"\n",
    "    Extracts all cells of column A from the specified xlsx file.\n",
    "\n",
    "    Args:\n",
    "        file_path (str): The path of the xlsx file.\n",
    "\n",
    "    Returns:\n",
    "        list: The list of values in column A.\n",
    "    \"\"\"\n",
    "    result = []\n",
    "    workbook = openpyxl.load_workbook(file_path)\n",
    "    sheet = workbook[sheet_name]\n",
    "    for row in sheet.iter_rows(values_only=True):\n",
    "        result.append(row[0])\n",
    "    return result\n",
    "\n",
    "\n",
    "def not_in_ids(dataset, idlist):\n",
    "    for i in dataset:\n",
    "        if i not in idlist:\n",
    "            print(i)"
   ]
  },
  {
   "cell_type": "code",
   "execution_count": 9,
   "id": "abf95bb0",
   "metadata": {},
   "outputs": [],
   "source": [
    "def remove_rows_if_id_not_matches(file_path: str, sheet_name, ids, all_apps):\n",
    "    ids_in_file = set()\n",
    "    workbook = openpyxl.load_workbook(file_path)\n",
    "    sheet = workbook[sheet_name]\n",
    "    i = 0\n",
    "    rows_to_remove = []\n",
    "    dataset = []\n",
    "    for row in sheet.iter_rows():\n",
    "        current_row = []\n",
    "        if str(row[0].value).strip() in ids and str(row[0].value).strip() not in ids_in_file:\n",
    "            cells = list(row)\n",
    "            for cell in cells:\n",
    "                current_row.append(cell.value)\n",
    "            dataset.append(current_row)\n",
    "            ids_in_file.add(str(row[0].value).strip())\n",
    "        else:\n",
    "            rows_to_remove.append(i)\n",
    "            \n",
    "        i += 1\n",
    "    \n",
    "    for row in rows_to_remove:\n",
    "        sheet.delete_rows(row)\n",
    "\n",
    "    all = list(all_apps[\"both\"]) + list(all_apps[\"hasNSLocalNetworkUsageDescription\"])\n",
    "    for app in all:\n",
    "        if app not in ids_in_file:\n",
    "            print(app)\n",
    "    for app in ids_in_file:\n",
    "        if app not in all:\n",
    "            print(app)\n",
    "\n",
    "    #workbook.save(file_path)\n",
    "    return pd.DataFrame(dataset, columns=[\"App ID\", \"German\", \"English\", \"Translate\", \"Code\"])"
   ]
  },
  {
   "cell_type": "code",
   "execution_count": 11,
   "id": "6673a3e9",
   "metadata": {},
   "outputs": [],
   "source": [
    "with open(matching_file, \"r\") as f:\n",
    "    ios_to_android = json.load(f)"
   ]
  },
  {
   "cell_type": "code",
   "execution_count": 14,
   "id": "5ef503ad",
   "metadata": {},
   "outputs": [],
   "source": [
    "ios_random_ids = get_dataset_ids_from_file(ios_random_apps)\n",
    "ios_top_ids = get_dataset_ids_from_file(ios_top_apps)\n",
    "ios_matching_ids = ios_to_android.keys()\n"
   ]
  },
  {
   "cell_type": "code",
   "execution_count": 42,
   "id": "84d273f5",
   "metadata": {},
   "outputs": [],
   "source": [
    "total = load_file(all_permission)\n"
   ]
  },
  {
   "cell_type": "code",
   "execution_count": 60,
   "id": "e9afc365",
   "metadata": {},
   "outputs": [],
   "source": [
    "random_result = set_to_lens(analyze_dataset(total, ios_random_ids))"
   ]
  },
  {
   "cell_type": "code",
   "execution_count": 61,
   "id": "56e6d453",
   "metadata": {},
   "outputs": [],
   "source": [
    "top_result = set_to_lens(analyze_dataset(total, ios_top_ids))"
   ]
  },
  {
   "cell_type": "code",
   "execution_count": 62,
   "id": "b5cf3635",
   "metadata": {},
   "outputs": [],
   "source": [
    "matching_result = set_to_lens(analyze_dataset(total, ios_matching_ids))"
   ]
  },
  {
   "cell_type": "code",
   "execution_count": null,
   "id": "174de29e",
   "metadata": {},
   "outputs": [],
   "source": []
  },
  {
   "cell_type": "code",
   "execution_count": 65,
   "id": "b06015cc",
   "metadata": {},
   "outputs": [],
   "source": [
    "def print_results(result, dataset, size = None):\n",
    "    if size is None:\n",
    "        size = len(dataset)\n",
    "    usage_description = result[\"both\"] + result[\"NSLocalNetworkUsageDescription\"]\n",
    "    usage_percent = usage_description / size\n",
    "    bonjour = result[\"both\"] + result[\"NSBonjourServices\"]\n",
    "    only_bonjour = result[\"NSBonjourServices\"]\n",
    "    only_bonjour_percetage = only_bonjour / bonjour\n",
    "    \n",
    "    print(usage_description)\n",
    "    print(f\"{usage_percent:.2%}\")\n",
    "    print(bonjour)\n",
    "    print(f\"{bonjour/size:.2%}\")\n",
    "    print(only_bonjour)\n",
    "    print(f\"{only_bonjour_percetage:.2%}\")\n",
    "\n",
    "    \n",
    "    \n",
    "    "
   ]
  },
  {
   "cell_type": "code",
   "execution_count": null,
   "id": "30997f46",
   "metadata": {},
   "outputs": [],
   "source": [
    "print_results(random_result, ios_random_ids)"
   ]
  },
  {
   "cell_type": "code",
   "execution_count": null,
   "id": "59c88a8e",
   "metadata": {},
   "outputs": [],
   "source": [
    "print_results(top_result, ios_top_ids)"
   ]
  },
  {
   "cell_type": "code",
   "execution_count": null,
   "id": "e0288a5e",
   "metadata": {},
   "outputs": [],
   "source": [
    "print_results(matching_result, ios_matching_ids, size =10862)"
   ]
  },
  {
   "cell_type": "code",
   "execution_count": null,
   "id": "4be03388",
   "metadata": {},
   "outputs": [],
   "source": [
    "matching_result"
   ]
  },
  {
   "cell_type": "code",
   "execution_count": null,
   "id": "bc521851",
   "metadata": {},
   "outputs": [],
   "source": [
    "top_result"
   ]
  },
  {
   "cell_type": "code",
   "execution_count": null,
   "id": "f4ef1085",
   "metadata": {},
   "outputs": [],
   "source": []
  },
  {
   "cell_type": "code",
   "execution_count": null,
   "id": "26cb4ed2",
   "metadata": {},
   "outputs": [],
   "source": []
  },
  {
   "cell_type": "code",
   "execution_count": null,
   "id": "d085e99f",
   "metadata": {},
   "outputs": [],
   "source": []
  },
  {
   "cell_type": "code",
   "execution_count": null,
   "id": "e4189fa1",
   "metadata": {},
   "outputs": [],
   "source": []
  },
  {
   "cell_type": "code",
   "execution_count": null,
   "id": "75efcb97",
   "metadata": {},
   "outputs": [],
   "source": []
  },
  {
   "cell_type": "code",
   "execution_count": null,
   "id": "bd94d464",
   "metadata": {},
   "outputs": [],
   "source": []
  },
  {
   "cell_type": "code",
   "execution_count": null,
   "id": "f291e45c",
   "metadata": {},
   "outputs": [],
   "source": []
  },
  {
   "cell_type": "code",
   "execution_count": null,
   "id": "c661e3fa",
   "metadata": {},
   "outputs": [],
   "source": []
  }
 ],
 "metadata": {
  "kernelspec": {
   "display_name": "Python 3 (ipykernel)",
   "language": "python",
   "name": "python3"
  },
  "language_info": {
   "codemirror_mode": {
    "name": "ipython",
    "version": 3
   },
   "file_extension": ".py",
   "mimetype": "text/x-python",
   "name": "python",
   "nbconvert_exporter": "python",
   "pygments_lexer": "ipython3",
   "version": "3.12.6"
  }
 },
 "nbformat": 4,
 "nbformat_minor": 5
}
